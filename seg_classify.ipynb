{
 "cells": [
  {
   "cell_type": "code",
   "execution_count": 10,
   "metadata": {},
   "outputs": [],
   "source": [
    "import tensorflow as tf\n",
    "import cv2\n",
    "import numpy as np\n",
    "import time\n",
    "import matplotlib.pyplot as plt\n",
    "import os\n",
    "import h5py\n",
    "import pandas as pd\n",
    "import keras\n",
    "from tensorflow.keras.models import Sequential\n",
    "from tensorflow.keras.layers import Dense, Conv2D, Activation, Flatten, MaxPooling2D, Dropout\n",
    "import random\n",
    "from sklearn.model_selection import train_test_split"
   ]
  },
  {
   "cell_type": "code",
   "execution_count": 2,
   "metadata": {},
   "outputs": [],
   "source": [
    "data1 = pd.read_csv(\"classification-of-handwritten-letters/letters.csv\")\n",
    "file1 = data1['file']\n",
    "letters1 = data1['letter']\n",
    "back1 = data1['background']\n",
    "data2 = pd.read_csv(\"classification-of-handwritten-letters/letters2.csv\")\n",
    "file2 = data2['file']\n",
    "letters2 = data2['letter']\n",
    "back2 = data2['background']\n",
    "data3 = pd.read_csv(\"classification-of-handwritten-letters/letters3.csv\")\n",
    "file3 = data3['file']\n",
    "letters3 = data3['letter']\n",
    "back3 = data3['background']"
   ]
  },
  {
   "cell_type": "code",
   "execution_count": 3,
   "metadata": {
    "scrolled": true
   },
   "outputs": [
    {
     "data": {
      "text/plain": [
       "14190"
      ]
     },
     "execution_count": 3,
     "metadata": {},
     "output_type": "execute_result"
    }
   ],
   "source": [
    "letters = pd.concat((letters1, letters2), axis=0, ignore_index=True)\n",
    "letters = pd.concat((letters, letters3), axis=0, ignore_index=True)\n",
    "len(letters)"
   ]
  },
  {
   "cell_type": "code",
   "execution_count": 4,
   "metadata": {},
   "outputs": [],
   "source": [
    "f = h5py.File('classification-of-handwritten-letters/LetterColorImages_123.h5', 'r')\n",
    "# List all groups\n",
    "keys = list(f.keys())\n",
    "backgrounds = np.array(f[keys[0]])\n",
    "tensors = np.array(f[keys[1]])\n",
    "targets = np.array(f[keys[2]])\n",
    "tensors = tensors.astype('float32')/255\n",
    "print(set(targets))"
   ]
  },
  {
   "cell_type": "code",
   "execution_count": 8,
   "metadata": {},
   "outputs": [
    {
     "data": {
      "text/plain": [
       "(14190, 33)"
      ]
     },
     "execution_count": 8,
     "metadata": {},
     "output_type": "execute_result"
    }
   ],
   "source": [
    "cat_targets = keras.utils.to_categorical(np.array(targets-1), 33)\n",
    "cat_targets.shape"
   ]
  },
  {
   "cell_type": "code",
   "execution_count": 11,
   "metadata": {},
   "outputs": [],
   "source": [
    "x_train, x_test, y_train, y_test = train_test_split(tensors, cat_targets, \n",
    "                                                    test_size = 0.2, \n",
    "                                                    random_state = 1)\n",
    "n = int(len(x_test)/2)\n",
    "x_valid, y_valid = x_test[:n], y_test[:n]\n",
    "x_test, y_test = x_test[n:], y_test[n:]"
   ]
  },
  {
   "cell_type": "code",
   "execution_count": 3,
   "metadata": {},
   "outputs": [
    {
     "data": {
      "text/html": [
       "<div>\n",
       "<style scoped>\n",
       "    .dataframe tbody tr th:only-of-type {\n",
       "        vertical-align: middle;\n",
       "    }\n",
       "\n",
       "    .dataframe tbody tr th {\n",
       "        vertical-align: top;\n",
       "    }\n",
       "\n",
       "    .dataframe thead th {\n",
       "        text-align: right;\n",
       "    }\n",
       "</style>\n",
       "<table border=\"1\" class=\"dataframe\">\n",
       "  <thead>\n",
       "    <tr style=\"text-align: right;\">\n",
       "      <th></th>\n",
       "      <th>0</th>\n",
       "      <th>1</th>\n",
       "      <th>2</th>\n",
       "      <th>3</th>\n",
       "      <th>4</th>\n",
       "      <th>5</th>\n",
       "      <th>6</th>\n",
       "      <th>7</th>\n",
       "      <th>8</th>\n",
       "      <th>9</th>\n",
       "      <th>...</th>\n",
       "      <th>775</th>\n",
       "      <th>776</th>\n",
       "      <th>777</th>\n",
       "      <th>778</th>\n",
       "      <th>779</th>\n",
       "      <th>780</th>\n",
       "      <th>781</th>\n",
       "      <th>782</th>\n",
       "      <th>783</th>\n",
       "      <th>784</th>\n",
       "    </tr>\n",
       "  </thead>\n",
       "  <tbody>\n",
       "    <tr>\n",
       "      <th>0</th>\n",
       "      <td>45</td>\n",
       "      <td>0</td>\n",
       "      <td>0</td>\n",
       "      <td>0</td>\n",
       "      <td>0</td>\n",
       "      <td>0</td>\n",
       "      <td>0</td>\n",
       "      <td>0</td>\n",
       "      <td>0</td>\n",
       "      <td>0</td>\n",
       "      <td>...</td>\n",
       "      <td>0</td>\n",
       "      <td>0</td>\n",
       "      <td>0</td>\n",
       "      <td>0</td>\n",
       "      <td>0</td>\n",
       "      <td>0</td>\n",
       "      <td>0</td>\n",
       "      <td>0</td>\n",
       "      <td>0</td>\n",
       "      <td>0</td>\n",
       "    </tr>\n",
       "    <tr>\n",
       "      <th>1</th>\n",
       "      <td>36</td>\n",
       "      <td>0</td>\n",
       "      <td>0</td>\n",
       "      <td>0</td>\n",
       "      <td>0</td>\n",
       "      <td>0</td>\n",
       "      <td>0</td>\n",
       "      <td>0</td>\n",
       "      <td>0</td>\n",
       "      <td>0</td>\n",
       "      <td>...</td>\n",
       "      <td>0</td>\n",
       "      <td>0</td>\n",
       "      <td>0</td>\n",
       "      <td>0</td>\n",
       "      <td>0</td>\n",
       "      <td>0</td>\n",
       "      <td>0</td>\n",
       "      <td>0</td>\n",
       "      <td>0</td>\n",
       "      <td>0</td>\n",
       "    </tr>\n",
       "    <tr>\n",
       "      <th>2</th>\n",
       "      <td>43</td>\n",
       "      <td>0</td>\n",
       "      <td>0</td>\n",
       "      <td>0</td>\n",
       "      <td>0</td>\n",
       "      <td>0</td>\n",
       "      <td>0</td>\n",
       "      <td>0</td>\n",
       "      <td>0</td>\n",
       "      <td>0</td>\n",
       "      <td>...</td>\n",
       "      <td>0</td>\n",
       "      <td>0</td>\n",
       "      <td>0</td>\n",
       "      <td>0</td>\n",
       "      <td>0</td>\n",
       "      <td>0</td>\n",
       "      <td>0</td>\n",
       "      <td>0</td>\n",
       "      <td>0</td>\n",
       "      <td>0</td>\n",
       "    </tr>\n",
       "    <tr>\n",
       "      <th>3</th>\n",
       "      <td>15</td>\n",
       "      <td>0</td>\n",
       "      <td>0</td>\n",
       "      <td>0</td>\n",
       "      <td>0</td>\n",
       "      <td>0</td>\n",
       "      <td>0</td>\n",
       "      <td>0</td>\n",
       "      <td>0</td>\n",
       "      <td>0</td>\n",
       "      <td>...</td>\n",
       "      <td>0</td>\n",
       "      <td>0</td>\n",
       "      <td>0</td>\n",
       "      <td>0</td>\n",
       "      <td>0</td>\n",
       "      <td>0</td>\n",
       "      <td>0</td>\n",
       "      <td>0</td>\n",
       "      <td>0</td>\n",
       "      <td>0</td>\n",
       "    </tr>\n",
       "    <tr>\n",
       "      <th>4</th>\n",
       "      <td>4</td>\n",
       "      <td>0</td>\n",
       "      <td>0</td>\n",
       "      <td>0</td>\n",
       "      <td>0</td>\n",
       "      <td>0</td>\n",
       "      <td>0</td>\n",
       "      <td>0</td>\n",
       "      <td>0</td>\n",
       "      <td>0</td>\n",
       "      <td>...</td>\n",
       "      <td>0</td>\n",
       "      <td>0</td>\n",
       "      <td>0</td>\n",
       "      <td>0</td>\n",
       "      <td>0</td>\n",
       "      <td>0</td>\n",
       "      <td>0</td>\n",
       "      <td>0</td>\n",
       "      <td>0</td>\n",
       "      <td>0</td>\n",
       "    </tr>\n",
       "  </tbody>\n",
       "</table>\n",
       "<p>5 rows × 785 columns</p>\n",
       "</div>"
      ],
      "text/plain": [
       "   0    1    2    3    4    5    6    7    8    9   ...   775  776  777  778  \\\n",
       "0   45    0    0    0    0    0    0    0    0    0 ...     0    0    0    0   \n",
       "1   36    0    0    0    0    0    0    0    0    0 ...     0    0    0    0   \n",
       "2   43    0    0    0    0    0    0    0    0    0 ...     0    0    0    0   \n",
       "3   15    0    0    0    0    0    0    0    0    0 ...     0    0    0    0   \n",
       "4    4    0    0    0    0    0    0    0    0    0 ...     0    0    0    0   \n",
       "\n",
       "   779  780  781  782  783  784  \n",
       "0    0    0    0    0    0    0  \n",
       "1    0    0    0    0    0    0  \n",
       "2    0    0    0    0    0    0  \n",
       "3    0    0    0    0    0    0  \n",
       "4    0    0    0    0    0    0  \n",
       "\n",
       "[5 rows x 785 columns]"
      ]
     },
     "execution_count": 3,
     "metadata": {},
     "output_type": "execute_result"
    }
   ],
   "source": [
    "train = pd.read_csv('../Downloads/emnist-balanced-train.csv', header=None)\n",
    "test = pd.read_csv('../Downloads/emnist-balanced-test.csv', header=None)\n",
    "train.head()"
   ]
  },
  {
   "cell_type": "code",
   "execution_count": 5,
   "metadata": {},
   "outputs": [
    {
     "data": {
      "text/plain": [
       "(18800, 785)"
      ]
     },
     "execution_count": 5,
     "metadata": {},
     "output_type": "execute_result"
    }
   ],
   "source": [
    "test.shape"
   ]
  },
  {
   "cell_type": "code",
   "execution_count": 4,
   "metadata": {},
   "outputs": [],
   "source": [
    "train_data = train.iloc[:, 1:]\n",
    "train_labels = train.iloc[:, 0]\n",
    "test_data = test.iloc[:, 1:]\n",
    "test_labels = test.iloc[:, 0]"
   ]
  },
  {
   "cell_type": "code",
   "execution_count": 7,
   "metadata": {},
   "outputs": [
    {
     "data": {
      "text/html": [
       "<div>\n",
       "<style scoped>\n",
       "    .dataframe tbody tr th:only-of-type {\n",
       "        vertical-align: middle;\n",
       "    }\n",
       "\n",
       "    .dataframe tbody tr th {\n",
       "        vertical-align: top;\n",
       "    }\n",
       "\n",
       "    .dataframe thead th {\n",
       "        text-align: right;\n",
       "    }\n",
       "</style>\n",
       "<table border=\"1\" class=\"dataframe\">\n",
       "  <thead>\n",
       "    <tr style=\"text-align: right;\">\n",
       "      <th></th>\n",
       "      <th>0</th>\n",
       "      <th>1</th>\n",
       "      <th>2</th>\n",
       "      <th>3</th>\n",
       "      <th>4</th>\n",
       "      <th>5</th>\n",
       "      <th>6</th>\n",
       "      <th>7</th>\n",
       "      <th>8</th>\n",
       "      <th>9</th>\n",
       "      <th>...</th>\n",
       "      <th>37</th>\n",
       "      <th>38</th>\n",
       "      <th>39</th>\n",
       "      <th>40</th>\n",
       "      <th>41</th>\n",
       "      <th>42</th>\n",
       "      <th>43</th>\n",
       "      <th>44</th>\n",
       "      <th>45</th>\n",
       "      <th>46</th>\n",
       "    </tr>\n",
       "  </thead>\n",
       "  <tbody>\n",
       "    <tr>\n",
       "      <th>0</th>\n",
       "      <td>0</td>\n",
       "      <td>0</td>\n",
       "      <td>0</td>\n",
       "      <td>0</td>\n",
       "      <td>0</td>\n",
       "      <td>0</td>\n",
       "      <td>0</td>\n",
       "      <td>0</td>\n",
       "      <td>0</td>\n",
       "      <td>0</td>\n",
       "      <td>...</td>\n",
       "      <td>0</td>\n",
       "      <td>0</td>\n",
       "      <td>0</td>\n",
       "      <td>0</td>\n",
       "      <td>0</td>\n",
       "      <td>0</td>\n",
       "      <td>0</td>\n",
       "      <td>0</td>\n",
       "      <td>1</td>\n",
       "      <td>0</td>\n",
       "    </tr>\n",
       "    <tr>\n",
       "      <th>1</th>\n",
       "      <td>0</td>\n",
       "      <td>0</td>\n",
       "      <td>0</td>\n",
       "      <td>0</td>\n",
       "      <td>0</td>\n",
       "      <td>0</td>\n",
       "      <td>0</td>\n",
       "      <td>0</td>\n",
       "      <td>0</td>\n",
       "      <td>0</td>\n",
       "      <td>...</td>\n",
       "      <td>0</td>\n",
       "      <td>0</td>\n",
       "      <td>0</td>\n",
       "      <td>0</td>\n",
       "      <td>0</td>\n",
       "      <td>0</td>\n",
       "      <td>0</td>\n",
       "      <td>0</td>\n",
       "      <td>0</td>\n",
       "      <td>0</td>\n",
       "    </tr>\n",
       "    <tr>\n",
       "      <th>2</th>\n",
       "      <td>0</td>\n",
       "      <td>0</td>\n",
       "      <td>0</td>\n",
       "      <td>0</td>\n",
       "      <td>0</td>\n",
       "      <td>0</td>\n",
       "      <td>0</td>\n",
       "      <td>0</td>\n",
       "      <td>0</td>\n",
       "      <td>0</td>\n",
       "      <td>...</td>\n",
       "      <td>0</td>\n",
       "      <td>0</td>\n",
       "      <td>0</td>\n",
       "      <td>0</td>\n",
       "      <td>0</td>\n",
       "      <td>0</td>\n",
       "      <td>1</td>\n",
       "      <td>0</td>\n",
       "      <td>0</td>\n",
       "      <td>0</td>\n",
       "    </tr>\n",
       "    <tr>\n",
       "      <th>3</th>\n",
       "      <td>0</td>\n",
       "      <td>0</td>\n",
       "      <td>0</td>\n",
       "      <td>0</td>\n",
       "      <td>0</td>\n",
       "      <td>0</td>\n",
       "      <td>0</td>\n",
       "      <td>0</td>\n",
       "      <td>0</td>\n",
       "      <td>0</td>\n",
       "      <td>...</td>\n",
       "      <td>0</td>\n",
       "      <td>0</td>\n",
       "      <td>0</td>\n",
       "      <td>0</td>\n",
       "      <td>0</td>\n",
       "      <td>0</td>\n",
       "      <td>0</td>\n",
       "      <td>0</td>\n",
       "      <td>0</td>\n",
       "      <td>0</td>\n",
       "    </tr>\n",
       "    <tr>\n",
       "      <th>4</th>\n",
       "      <td>0</td>\n",
       "      <td>0</td>\n",
       "      <td>0</td>\n",
       "      <td>0</td>\n",
       "      <td>1</td>\n",
       "      <td>0</td>\n",
       "      <td>0</td>\n",
       "      <td>0</td>\n",
       "      <td>0</td>\n",
       "      <td>0</td>\n",
       "      <td>...</td>\n",
       "      <td>0</td>\n",
       "      <td>0</td>\n",
       "      <td>0</td>\n",
       "      <td>0</td>\n",
       "      <td>0</td>\n",
       "      <td>0</td>\n",
       "      <td>0</td>\n",
       "      <td>0</td>\n",
       "      <td>0</td>\n",
       "      <td>0</td>\n",
       "    </tr>\n",
       "  </tbody>\n",
       "</table>\n",
       "<p>5 rows × 47 columns</p>\n",
       "</div>"
      ],
      "text/plain": [
       "   0   1   2   3   4   5   6   7   8   9  ...  37  38  39  40  41  42  43  44  \\\n",
       "0   0   0   0   0   0   0   0   0   0   0 ...   0   0   0   0   0   0   0   0   \n",
       "1   0   0   0   0   0   0   0   0   0   0 ...   0   0   0   0   0   0   0   0   \n",
       "2   0   0   0   0   0   0   0   0   0   0 ...   0   0   0   0   0   0   1   0   \n",
       "3   0   0   0   0   0   0   0   0   0   0 ...   0   0   0   0   0   0   0   0   \n",
       "4   0   0   0   0   1   0   0   0   0   0 ...   0   0   0   0   0   0   0   0   \n",
       "\n",
       "   45  46  \n",
       "0   1   0  \n",
       "1   0   0  \n",
       "2   0   0  \n",
       "3   0   0  \n",
       "4   0   0  \n",
       "\n",
       "[5 rows x 47 columns]"
      ]
     },
     "execution_count": 7,
     "metadata": {},
     "output_type": "execute_result"
    }
   ],
   "source": [
    "train_labels = pd.get_dummies(train_labels)\n",
    "test_labels = pd.get_dummies(test_labels)\n",
    "train_labels.head()"
   ]
  },
  {
   "cell_type": "raw",
   "metadata": {},
   "source": []
  },
  {
   "cell_type": "code",
   "execution_count": 13,
   "metadata": {},
   "outputs": [],
   "source": [
    "train_data = train_data.values\n",
    "train_labels = train_labels.values\n",
    "test_data = test_data.values\n",
    "test_labels = test_labels.values\n",
    "del train, test"
   ]
  },
  {
   "cell_type": "code",
   "execution_count": 15,
   "metadata": {},
   "outputs": [
    {
     "data": {
      "text/plain": [
       "(112800, 784)"
      ]
     },
     "execution_count": 15,
     "metadata": {},
     "output_type": "execute_result"
    }
   ],
   "source": []
  },
  {
   "cell_type": "code",
   "execution_count": 16,
   "metadata": {},
   "outputs": [
    {
     "data": {
      "image/png": "[encoded data removed]",
      "text/plain": [
       "<Figure size 432x288 with 1 Axes>"
      ]
     },
     "metadata": {},
     "output_type": "display_data"
    }
   ],
   "source": [
    "import matplotlib.pyplot as plt\n",
    "%matplotlib inline\n",
    "plt.imshow(train_data[45].reshape([28, 28]), cmap='Greys_r')\n",
    "plt.show()"
   ]
  },
  {
   "cell_type": "code",
   "execution_count": 17,
   "metadata": {},
   "outputs": [],
   "source": [
    "def rotate(image):\n",
    "    image = image.reshape([28, 28])\n",
    "    image = np.fliplr(image)\n",
    "    image = np.rot90(image)\n",
    "    return image.reshape([28 * 28])\n",
    "train_data = np.apply_along_axis(rotate, 1, train_data)/255\n",
    "test_data = np.apply_along_axis(rotate, 1, test_data)/255"
   ]
  },
  {
   "cell_type": "code",
   "execution_count": 18,
   "metadata": {},
   "outputs": [
    {
     "data": {
      "image/png": "[encoded data removed]",
      "text/plain": [
       "<Figure size 432x288 with 1 Axes>"
      ]
     },
     "metadata": {},
     "output_type": "display_data"
    }
   ],
   "source": [
    "plt.imshow(train_data[45].reshape([28, 28]), cmap='Greys_r')\n",
    "plt.show()"
   ]
  },
  {
   "cell_type": "code",
   "execution_count": 19,
   "metadata": {},
   "outputs": [
    {
     "data": {
      "text/plain": [
       "(112800, 784)"
      ]
     },
     "execution_count": 19,
     "metadata": {},
     "output_type": "execute_result"
    }
   ],
   "source": []
  },
  {
   "cell_type": "code",
   "execution_count": 20,
   "metadata": {},
   "outputs": [],
   "source": [
    "train_data = np.array(train_data).reshape(-1,28,28,1)"
   ]
  },
  {
   "cell_type": "code",
   "execution_count": null,
   "metadata": {},
   "outputs": [],
   "source": []
  },
  {
   "cell_type": "code",
   "execution_count": 3,
   "metadata": {},
   "outputs": [
    {
     "name": "stdout",
     "output_type": "stream",
     "text": [
      "_________________________________________________________________\n",
      "Layer (type)                 Output Shape              Param #   \n",
      "=================================================================\n",
      "conv2d (Conv2D)              (None, 26, 26, 64)        640       \n",
      "_________________________________________________________________\n",
      "activation (Activation)      (None, 26, 26, 64)        0         \n",
      "_________________________________________________________________\n",
      "max_pooling2d (MaxPooling2D) (None, 13, 13, 64)        0         \n",
      "_________________________________________________________________\n",
      "dropout (Dropout)            (None, 13, 13, 64)        0         \n",
      "_________________________________________________________________\n",
      "conv2d_1 (Conv2D)            (None, 11, 11, 64)        36928     \n",
      "_________________________________________________________________\n",
      "activation_1 (Activation)    (None, 11, 11, 64)        0         \n",
      "_________________________________________________________________\n",
      "max_pooling2d_1 (MaxPooling2 (None, 5, 5, 64)          0         \n",
      "_________________________________________________________________\n",
      "dropout_1 (Dropout)          (None, 5, 5, 64)          0         \n",
      "_________________________________________________________________\n",
      "conv2d_2 (Conv2D)            (None, 3, 3, 64)          36928     \n",
      "_________________________________________________________________\n",
      "activation_2 (Activation)    (None, 3, 3, 64)          0         \n",
      "_________________________________________________________________\n",
      "max_pooling2d_2 (MaxPooling2 (None, 1, 1, 64)          0         \n",
      "_________________________________________________________________\n",
      "dropout_2 (Dropout)          (None, 1, 1, 64)          0         \n",
      "_________________________________________________________________\n",
      "flatten (Flatten)            (None, 64)                0         \n",
      "_________________________________________________________________\n",
      "dense (Dense)                (None, 64)                4160      \n",
      "_________________________________________________________________\n",
      "activation_3 (Activation)    (None, 64)                0         \n",
      "_________________________________________________________________\n",
      "flatten_1 (Flatten)          (None, 64)                0         \n",
      "_________________________________________________________________\n",
      "dense_1 (Dense)              (None, 47)                3055      \n",
      "_________________________________________________________________\n",
      "activation_4 (Activation)    (None, 47)                0         \n",
      "=================================================================\n",
      "Total params: 81,711\n",
      "Trainable params: 81,711\n",
      "Non-trainable params: 0\n",
      "_________________________________________________________________\n"
     ]
    }
   ],
   "source": [
    "model = Sequential()\n",
    "model.add(Conv2D(64,(3,3),input_shape = (28,28,1)))\n",
    "model.add(Activation('relu'))\n",
    "model.add(MaxPooling2D(pool_size=(2,2)))\n",
    "model.add(Dropout(0.5))\n",
    "model.add(Conv2D(64,(3,3)))\n",
    "model.add(Activation('relu'))\n",
    "model.add(MaxPooling2D(pool_size=(2,2)))\n",
    "model.add(Dropout(0.3))\n",
    "model.add(Conv2D(64,(3,3)))\n",
    "model.add(Activation('relu'))\n",
    "model.add(MaxPooling2D(pool_size=(2,2)))\n",
    "model.add(Dropout(0.1))\n",
    "model.add(Flatten())\n",
    "model.add(Dense(64))\n",
    "model.add(Activation('relu'))   \n",
    "model.add(Flatten())\n",
    "model.add(Dense(47))\n",
    "model.add(Activation('softmax'))\n",
    "model.compile(loss=\"categorical_crossentropy\",optimizer=\"adam\",metrics=['accuracy'])\n",
    "model.summary()\n"
   ]
  },
  {
   "cell_type": "code",
   "execution_count": 25,
   "metadata": {},
   "outputs": [
    {
     "data": {
      "text/plain": [
       "(112800, 28, 28, 1)"
      ]
     },
     "execution_count": 25,
     "metadata": {},
     "output_type": "execute_result"
    }
   ],
   "source": [
    "train_data.shape"
   ]
  },
  {
   "cell_type": "code",
   "execution_count": 26,
   "metadata": {},
   "outputs": [
    {
     "name": "stdout",
     "output_type": "stream",
     "text": [
      "Train on 101520 samples, validate on 11280 samples\n",
      "Epoch 1/5\n",
      " 94560/101520 [==========================>...] - ETA: 11s - loss: 1.4315 - acc: 0.5632"
     ]
    },
    {
     "ename": "KeyboardInterrupt",
     "evalue": "",
     "output_type": "error",
     "traceback": [
      "\u001b[0;31m---------------------------------------------------------------------------\u001b[0m",
      "\u001b[0;31mKeyboardInterrupt\u001b[0m                         Traceback (most recent call last)",
      "\u001b[0;32m<ipython-input-26-cdf5d24427b2>\u001b[0m in \u001b[0;36m<module>\u001b[0;34m()\u001b[0m\n\u001b[0;32m----> 1\u001b[0;31m \u001b[0mmodel\u001b[0m\u001b[0;34m.\u001b[0m\u001b[0mfit\u001b[0m\u001b[0;34m(\u001b[0m\u001b[0mtrain_data\u001b[0m\u001b[0;34m,\u001b[0m\u001b[0mtrain_labels\u001b[0m\u001b[0;34m,\u001b[0m\u001b[0mepochs\u001b[0m\u001b[0;34m=\u001b[0m\u001b[0;36m5\u001b[0m\u001b[0;34m,\u001b[0m\u001b[0mvalidation_split\u001b[0m\u001b[0;34m=\u001b[0m\u001b[0;36m0.1\u001b[0m\u001b[0;34m)\u001b[0m\u001b[0;34m\u001b[0m\u001b[0m\n\u001b[0m",
      "\u001b[0;32m~/.local/lib/python3.6/site-packages/tensorflow/python/keras/engine/training.py\u001b[0m in \u001b[0;36mfit\u001b[0;34m(self, x, y, batch_size, epochs, verbose, callbacks, validation_split, validation_data, shuffle, class_weight, sample_weight, initial_epoch, steps_per_epoch, validation_steps, max_queue_size, workers, use_multiprocessing, **kwargs)\u001b[0m\n\u001b[1;32m   1637\u001b[0m           \u001b[0minitial_epoch\u001b[0m\u001b[0;34m=\u001b[0m\u001b[0minitial_epoch\u001b[0m\u001b[0;34m,\u001b[0m\u001b[0;34m\u001b[0m\u001b[0m\n\u001b[1;32m   1638\u001b[0m           \u001b[0msteps_per_epoch\u001b[0m\u001b[0;34m=\u001b[0m\u001b[0msteps_per_epoch\u001b[0m\u001b[0;34m,\u001b[0m\u001b[0;34m\u001b[0m\u001b[0m\n\u001b[0;32m-> 1639\u001b[0;31m           validation_steps=validation_steps)\n\u001b[0m\u001b[1;32m   1640\u001b[0m \u001b[0;34m\u001b[0m\u001b[0m\n\u001b[1;32m   1641\u001b[0m   def evaluate(self,\n",
      "\u001b[0;32m~/.local/lib/python3.6/site-packages/tensorflow/python/keras/engine/training_arrays.py\u001b[0m in \u001b[0;36mfit_loop\u001b[0;34m(model, inputs, targets, sample_weights, batch_size, epochs, verbose, callbacks, val_inputs, val_targets, val_sample_weights, shuffle, initial_epoch, steps_per_epoch, validation_steps)\u001b[0m\n\u001b[1;32m    213\u001b[0m           \u001b[0mins_batch\u001b[0m\u001b[0;34m[\u001b[0m\u001b[0mi\u001b[0m\u001b[0;34m]\u001b[0m \u001b[0;34m=\u001b[0m \u001b[0mins_batch\u001b[0m\u001b[0;34m[\u001b[0m\u001b[0mi\u001b[0m\u001b[0;34m]\u001b[0m\u001b[0;34m.\u001b[0m\u001b[0mtoarray\u001b[0m\u001b[0;34m(\u001b[0m\u001b[0;34m)\u001b[0m\u001b[0;34m\u001b[0m\u001b[0m\n\u001b[1;32m    214\u001b[0m \u001b[0;34m\u001b[0m\u001b[0m\n\u001b[0;32m--> 215\u001b[0;31m         \u001b[0mouts\u001b[0m \u001b[0;34m=\u001b[0m \u001b[0mf\u001b[0m\u001b[0;34m(\u001b[0m\u001b[0mins_batch\u001b[0m\u001b[0;34m)\u001b[0m\u001b[0;34m\u001b[0m\u001b[0m\n\u001b[0m\u001b[1;32m    216\u001b[0m         \u001b[0;32mif\u001b[0m \u001b[0;32mnot\u001b[0m \u001b[0misinstance\u001b[0m\u001b[0;34m(\u001b[0m\u001b[0mouts\u001b[0m\u001b[0;34m,\u001b[0m \u001b[0mlist\u001b[0m\u001b[0;34m)\u001b[0m\u001b[0;34m:\u001b[0m\u001b[0;34m\u001b[0m\u001b[0m\n\u001b[1;32m    217\u001b[0m           \u001b[0mouts\u001b[0m \u001b[0;34m=\u001b[0m \u001b[0;34m[\u001b[0m\u001b[0mouts\u001b[0m\u001b[0;34m]\u001b[0m\u001b[0;34m\u001b[0m\u001b[0m\n",
      "\u001b[0;32m~/.local/lib/python3.6/site-packages/tensorflow/python/keras/backend.py\u001b[0m in \u001b[0;36m__call__\u001b[0;34m(self, inputs)\u001b[0m\n\u001b[1;32m   2984\u001b[0m \u001b[0;34m\u001b[0m\u001b[0m\n\u001b[1;32m   2985\u001b[0m     fetched = self._callable_fn(*array_vals,\n\u001b[0;32m-> 2986\u001b[0;31m                                 run_metadata=self.run_metadata)\n\u001b[0m\u001b[1;32m   2987\u001b[0m     \u001b[0mself\u001b[0m\u001b[0;34m.\u001b[0m\u001b[0m_call_fetch_callbacks\u001b[0m\u001b[0;34m(\u001b[0m\u001b[0mfetched\u001b[0m\u001b[0;34m[\u001b[0m\u001b[0;34m-\u001b[0m\u001b[0mlen\u001b[0m\u001b[0;34m(\u001b[0m\u001b[0mself\u001b[0m\u001b[0;34m.\u001b[0m\u001b[0m_fetches\u001b[0m\u001b[0;34m)\u001b[0m\u001b[0;34m:\u001b[0m\u001b[0;34m]\u001b[0m\u001b[0;34m)\u001b[0m\u001b[0;34m\u001b[0m\u001b[0m\n\u001b[1;32m   2988\u001b[0m     \u001b[0;32mreturn\u001b[0m \u001b[0mfetched\u001b[0m\u001b[0;34m[\u001b[0m\u001b[0;34m:\u001b[0m\u001b[0mlen\u001b[0m\u001b[0;34m(\u001b[0m\u001b[0mself\u001b[0m\u001b[0;34m.\u001b[0m\u001b[0moutputs\u001b[0m\u001b[0;34m)\u001b[0m\u001b[0;34m]\u001b[0m\u001b[0;34m\u001b[0m\u001b[0m\n",
      "\u001b[0;32m~/.local/lib/python3.6/site-packages/tensorflow/python/client/session.py\u001b[0m in \u001b[0;36m__call__\u001b[0;34m(self, *args, **kwargs)\u001b[0m\n\u001b[1;32m   1437\u001b[0m           ret = tf_session.TF_SessionRunCallable(\n\u001b[1;32m   1438\u001b[0m               \u001b[0mself\u001b[0m\u001b[0;34m.\u001b[0m\u001b[0m_session\u001b[0m\u001b[0;34m.\u001b[0m\u001b[0m_session\u001b[0m\u001b[0;34m,\u001b[0m \u001b[0mself\u001b[0m\u001b[0;34m.\u001b[0m\u001b[0m_handle\u001b[0m\u001b[0;34m,\u001b[0m \u001b[0margs\u001b[0m\u001b[0;34m,\u001b[0m \u001b[0mstatus\u001b[0m\u001b[0;34m,\u001b[0m\u001b[0;34m\u001b[0m\u001b[0m\n\u001b[0;32m-> 1439\u001b[0;31m               run_metadata_ptr)\n\u001b[0m\u001b[1;32m   1440\u001b[0m         \u001b[0;32mif\u001b[0m \u001b[0mrun_metadata\u001b[0m\u001b[0;34m:\u001b[0m\u001b[0;34m\u001b[0m\u001b[0m\n\u001b[1;32m   1441\u001b[0m           \u001b[0mproto_data\u001b[0m \u001b[0;34m=\u001b[0m \u001b[0mtf_session\u001b[0m\u001b[0;34m.\u001b[0m\u001b[0mTF_GetBuffer\u001b[0m\u001b[0;34m(\u001b[0m\u001b[0mrun_metadata_ptr\u001b[0m\u001b[0;34m)\u001b[0m\u001b[0;34m\u001b[0m\u001b[0m\n",
      "\u001b[0;31mKeyboardInterrupt\u001b[0m: "
     ]
    }
   ],
   "source": [
    "model.fit(train_data,train_labels,epochs=5,validation_split=0.1)"
   ]
  },
  {
   "cell_type": "code",
   "execution_count": 13,
   "metadata": {},
   "outputs": [
    {
     "name": "stdout",
     "output_type": "stream",
     "text": [
      "Epoch 1/5\n",
      "500/500 [==============================] - 34s 69ms/step - loss: 2.6000 - acc: 0.2774 - val_loss: 1.4394 - val_acc: 0.5687\n",
      "Epoch 2/5\n",
      "500/500 [==============================] - 34s 68ms/step - loss: 1.4253 - acc: 0.5524 - val_loss: 1.0098 - val_acc: 0.6797\n",
      "Epoch 3/5\n",
      "500/500 [==============================] - 35s 70ms/step - loss: 1.1751 - acc: 0.6286 - val_loss: 0.8622 - val_acc: 0.7199\n",
      "Epoch 4/5\n",
      "500/500 [==============================] - 34s 68ms/step - loss: 1.0193 - acc: 0.6719 - val_loss: 0.7907 - val_acc: 0.7409\n",
      "Epoch 5/5\n",
      "500/500 [==============================] - 33s 67ms/step - loss: 0.9640 - acc: 0.6861 - val_loss: 0.7394 - val_acc: 0.7597\n"
     ]
    }
   ],
   "source": [
    "data_generator = keras.preprocessing.image.ImageDataGenerator(validation_split=.2)\n",
    "## consider using this for more variety\n",
    "data_generator_with_aug = keras.preprocessing.image.ImageDataGenerator(validation_split=.2,\n",
    "                                            width_shift_range=.2, height_shift_range=.2,\n",
    "                                            rotation_range=60, zoom_range=.2, shear_range=.3)\n",
    "\n",
    "# if already ran this above, no need to do it again\n",
    "# X, y = img_label_load(train_data_path)\n",
    "# print(\"X.shape: \", X.shape)\n",
    "\n",
    "training_data_generator = data_generator.flow(train_data, train_labels, subset='training')\n",
    "validation_data_generator = data_generator.flow(train_data, train_labels, subset='validation')\n",
    "history = model.fit_generator(training_data_generator, \n",
    "                              steps_per_epoch=500, epochs=5, # can change epochs to 10\n",
    "                              validation_data=validation_data_generator)"
   ]
  },
  {
   "cell_type": "code",
   "execution_count": 5,
   "metadata": {},
   "outputs": [
    {
     "data": {
      "image/png": "[encoded data removed]",
      "text/plain": [
       "<Figure size 432x288 with 1 Axes>"
      ]
     },
     "metadata": {},
     "output_type": "display_data"
    },
    {
     "name": "stdout",
     "output_type": "stream",
     "text": [
      "(400, 760)\n",
      "<class 'numpy.ndarray'>\n"
     ]
    }
   ],
   "source": [
    "datadir = \"para.jpg\"\n",
    "\n",
    "img_array = cv2.imread(datadir,cv2.IMREAD_GRAYSCALE)\n",
    "# img_array = cv2.resize(img_array,(150,150))\n",
    "plt.imshow(img_array,cmap=\"gray\")\n",
    "plt.show()\n",
    "print(img_array.shape)\n",
    "print(type(img_array))\n",
    "# img_array = cv2.resize(img_array)"
   ]
  },
  {
   "cell_type": "code",
   "execution_count": 7,
   "metadata": {
    "scrolled": true
   },
   "outputs": [
    {
     "data": {
      "image/png": "[encoded data removed]",
      "text/plain": [
       "<Figure size 432x288 with 1 Axes>"
      ]
     },
     "metadata": {},
     "output_type": "display_data"
    },
    {
     "name": "stdout",
     "output_type": "stream",
     "text": [
      "[array([[[  0, 360]],\n",
      "\n",
      "       [[  0, 388]],\n",
      "\n",
      "       [[206, 388]],\n",
      "\n",
      "       [[207, 387]],\n",
      "\n",
      "       [[207, 361]],\n",
      "\n",
      "       [[206, 360]]], dtype=int32), array([[[176, 271]],\n",
      "\n",
      "       [[175, 272]],\n",
      "\n",
      "       [[175, 323]],\n",
      "\n",
      "       [[176, 324]],\n",
      "\n",
      "       [[723, 324]],\n",
      "\n",
      "       [[724, 323]],\n",
      "\n",
      "       [[724, 272]],\n",
      "\n",
      "       [[723, 271]]], dtype=int32), array([[[172, 206]],\n",
      "\n",
      "       [[171, 207]],\n",
      "\n",
      "       [[171, 258]],\n",
      "\n",
      "       [[172, 259]],\n",
      "\n",
      "       [[759, 259]],\n",
      "\n",
      "       [[759, 206]]], dtype=int32), array([[[172, 140]],\n",
      "\n",
      "       [[171, 141]],\n",
      "\n",
      "       [[171, 193]],\n",
      "\n",
      "       [[172, 194]],\n",
      "\n",
      "       [[759, 194]],\n",
      "\n",
      "       [[759, 140]]], dtype=int32), array([[[172,  74]],\n",
      "\n",
      "       [[171,  75]],\n",
      "\n",
      "       [[171, 128]],\n",
      "\n",
      "       [[172, 129]],\n",
      "\n",
      "       [[744, 129]],\n",
      "\n",
      "       [[745, 128]],\n",
      "\n",
      "       [[745,  75]],\n",
      "\n",
      "       [[744,  74]]], dtype=int32)]\n"
     ]
    }
   ],
   "source": [
    "gray = img_array\n",
    "# cv2.imshow('gray',gray)\n",
    "# cv2.waitKey(0)\n",
    "ret,thresh = cv2.threshold(gray,127,255,cv2.THRESH_BINARY_INV)\n",
    "plt.imshow(thresh)\n",
    "plt.show()\n",
    "# cv2.waitKey(0)\n",
    "\n",
    "kernel = np.ones((5,100), np.uint8)\n",
    "img_dilation = cv2.dilate(thresh, kernel, iterations=1)\n",
    "# plt.imshow(img_dilation)\n",
    "# plt.show()\n",
    "# cv2.imshow('dilated',img_dilation)\n",
    "# cv2.waitKey(0)\n",
    "\n",
    "im2,ctrs, hier = cv2.findContours(img_dilation.copy(), cv2.RETR_EXTERNAL, cv2.CHAIN_APPROX_SIMPLE)\n",
    "print(ctrs)\n",
    "sorted_ctrs = sorted(ctrs, key=lambda ctr: cv2.boundingRect(ctr)[1])\n",
    "# boundingBoxes = [cv2.boundingRect(c) for c in ctrs]\n",
    "# (cnts, boundingBoxes) = zip(*sorted(zip(ctrs, boundingBoxes),\n",
    "#         key=lambda b:b[1][0], reverse=False))\n",
    "# sorted_ctrs = sorted(ctrs, key = cv2.contourArea, reverse = True)[:10]\n",
    "# list_images = []\n",
    "# count = 0\n",
    "datadir1 = \"/home/sabu/handwriting recognition/save_images_lines\"\n",
    "for i, ctr in enumerate(sorted_ctrs):\n",
    "    x, y, w, h = cv2.boundingRect(ctr)\n",
    "\n",
    "    roi = img_array[y:y+h, x:x+w]\n",
    "#     count+=1\n",
    "#     list_images.append(roi)\n",
    "#     print(type(roi))\n",
    "#     print(roi.shape)\n",
    "    NAME = \"seg_{}.jpg\".format(int(time.time()))\n",
    "    temp = os.path.join(datadir1,NAME)\n",
    "    cv2.imwrite(temp,roi)\n",
    "    cv2.imshow('segment no:'+str(i),roi)\n",
    "    cv2.rectangle(img_array,(x,y),( x + w, y + h ),(90,0,255),2)\n",
    "    cv2.waitKey(1000)\n",
    "\n",
    "cv2.imshow('marked areas',img_array)\n",
    "cv2.waitKey(1000)\n",
    "cv2.destroyAllWindows()\n",
    "plt.show()"
   ]
  },
  {
   "cell_type": "code",
   "execution_count": 30,
   "metadata": {},
   "outputs": [],
   "source": [
    "datadir1 = \"save_images_lines\"\n",
    "datadir3 = \"/home/sabu/handwriting recognition/save_images_words\"\n",
    "list1 = []\n",
    "for l in os.listdir(datadir1):\n",
    "    list1.append(l)\n",
    "list1.sort()"
   ]
  },
  {
   "cell_type": "code",
   "execution_count": 31,
   "metadata": {},
   "outputs": [
    {
     "data": {
      "image/png": "[encoded data removed]",
      "text/plain": [
       "<Figure size 432x288 with 1 Axes>"
      ]
     },
     "metadata": {},
     "output_type": "display_data"
    },
    {
     "data": {
      "image/png": "[encoded data removed]",
      "text/plain": [
       "<Figure size 432x288 with 1 Axes>"
      ]
     },
     "metadata": {},
     "output_type": "display_data"
    },
    {
     "data": {
      "image/png": "[encoded data removed]",
      "text/plain": [
       "<Figure size 432x288 with 1 Axes>"
      ]
     },
     "metadata": {},
     "output_type": "display_data"
    },
    {
     "data": {
      "image/png": "[encoded data removed]",
      "text/plain": [
       "<Figure size 432x288 with 1 Axes>"
      ]
     },
     "metadata": {},
     "output_type": "display_data"
    },
    {
     "data": {
      "image/png": "[encoded data removed]",
      "text/plain": [
       "<Figure size 432x288 with 1 Axes>"
      ]
     },
     "metadata": {},
     "output_type": "display_data"
    }
   ],
   "source": [
    "# test_array = cv2.resize(img_array,None,fx=4, fy=4, interpolation = cv2.INTER_CUBIC)\n",
    "datadir1 = \"save_images_lines\"\n",
    "datadir3 = \"/home/sabu/handwriting recognition/save_images_words\"\n",
    "def testing_data1():\n",
    "    for k in list1:\n",
    "        test_array = cv2.imread(os.path.join(datadir1,k),cv2.IMREAD_GRAYSCALE)\n",
    "        plt.imshow(test_array)\n",
    "        plt.show()\n",
    "        ret,thresh = cv2.threshold(test_array,127,255,cv2.THRESH_BINARY_INV)\n",
    "#         test_array = cv2.resize(test_array,(150,150))\n",
    "        #         test_array = cv2.resize(test_array,(150,150))\n",
    "        krnl = np.ones((5,20), np.uint8)\n",
    "        img_dilate = cv2.dilate(thresh, krnl, iterations=1)\n",
    "        im4,cnts, hierarchy = cv2.findContours(img_dilate.copy(), cv2.RETR_EXTERNAL, cv2.CHAIN_APPROX_SIMPLE)\n",
    "        sorted_cnts = sorted(cnts, key=lambda cnt: cv2.boundingRect(cnt)[0])\n",
    "        \n",
    "        for j, cnt1 in enumerate(sorted_cnts):\n",
    "            x, y, w, h = cv2.boundingRect(cnt1)\n",
    "\n",
    "            region_int = test_array[y:y+h, x:x+w]\n",
    "            NAME1 = \"seg_{}.jpg\".format(int(time.time()))\n",
    "            temp1 = os.path.join(datadir3,NAME1)\n",
    "            cv2.imwrite(temp1,region_int)\n",
    "#             list_images1.append(region_int)\n",
    "            cv2.imshow('segment no:'+str(j),region_int)\n",
    "            cv2.rectangle(test_array,(x,y),( x + w, y + h ),(90,0,255),2)\n",
    "            cv2.waitKey(1000)\n",
    "\n",
    "        cv2.imshow('marked areas',test_array)\n",
    "        cv2.waitKey(1000)\n",
    "        cv2.destroyAllWindows()            \n",
    "testing_data1()"
   ]
  },
  {
   "cell_type": "code",
   "execution_count": 32,
   "metadata": {},
   "outputs": [
    {
     "name": "stdout",
     "output_type": "stream",
     "text": [
      "['seg_1547985383.jpg', 'seg_1547985384.jpg', 'seg_1547985385.jpg', 'seg_1547985387.jpg', 'seg_1547985388.jpg', 'seg_1547985390.jpg', 'seg_1547985391.jpg', 'seg_1547985393.jpg', 'seg_1547985394.jpg', 'seg_1547985397.jpg']\n"
     ]
    }
   ],
   "source": [
    "datadir4 = \"save_images_words\"\n",
    "list2 = []\n",
    "for n in os.listdir(datadir4):\n",
    "    list2.append(n)\n",
    "list2.sort()\n",
    "print(list2)"
   ]
  },
  {
   "cell_type": "code",
   "execution_count": 33,
   "metadata": {},
   "outputs": [],
   "source": [
    "list_images = []\n",
    "new = []\n",
    "datadir4 = \"save_images_words\"\n",
    "\n",
    "def testing_data2():\n",
    "    for m in list2:\n",
    "        temp_array = cv2.imread(os.path.join(datadir4,m),cv2.IMREAD_GRAYSCALE)\n",
    "        ret2,thresh2 = cv2.threshold(temp_array,127,255,cv2.THRESH_BINARY_INV)\n",
    "        krnl2 = np.ones((5,5), np.uint8)\n",
    "        img_dilate2 = cv2.dilate(thresh2, krnl2, iterations=1)\n",
    "        im5,cnts2, hierarchy2 = cv2.findContours(img_dilate2.copy(), cv2.RETR_EXTERNAL, cv2.CHAIN_APPROX_SIMPLE)\n",
    "        sorted_cnts2 = sorted(cnts2, key=lambda cnt2: cv2.boundingRect(cnt2)[0])\n",
    "        \n",
    "        for j, cnt2 in enumerate(sorted_cnts2):\n",
    "            x, y, w, h = cv2.boundingRect(cnt2)\n",
    "\n",
    "            region_int2 = temp_array[y:y+h, x:x+w]\n",
    "            new.append(region_int2)\n",
    "#             plt.imshow(region_int2)\n",
    "#             plt.show()\n",
    "            cv2.imshow('segment no:'+str(j),region_int2)\n",
    "            cv2.rectangle(temp_array,(x,y),( x + w, y + h ),(90,0,255),2)\n",
    "            cv2.waitKey(1000)\n",
    "        list_images.append(new)\n",
    "        cv2.imshow('marked areas',temp_array)\n",
    "        cv2.waitKey(1000)\n",
    "        cv2.destroyAllWindows()  \n",
    "testing_data2()"
   ]
  },
  {
   "cell_type": "code",
   "execution_count": 97,
   "metadata": {},
   "outputs": [
    {
     "name": "stdout",
     "output_type": "stream",
     "text": [
      "[[array([[ 90,  90,  90, ...,  90,  90,  90],\n",
      "       [ 90,  90,  90, ...,  90,  90,  90],\n",
      "       [ 90,  90, 255, ..., 255, 255,  90],\n",
      "       ...,\n",
      "       [ 90,  90, 255, ..., 255, 255,  90],\n",
      "       [ 90,  90, 255, ..., 255, 255,  90],\n",
      "       [ 90,  90,  90, ...,  90,  90,  90]], dtype=uint8)\n",
      "  array([[ 90,  90,  90, ...,  90,  90,  90],\n",
      "       [ 90,  90,  90, ...,  90,  90,  90],\n",
      "       [ 90,  90, 255, ..., 255, 254,  90],\n",
      "       ...,\n",
      "       [ 90,  90, 255, ..., 255, 254,  90],\n",
      "       [ 90,  90, 255, ..., 251, 246,  90],\n",
      "       [ 90,  90,  90, ...,  90,  90,  90]], dtype=uint8)\n",
      "  array([[ 90,  90,  90, ...,  90,  90,  90],\n",
      "       [ 90,  90,  90, ...,  90,  90,  90],\n",
      "       [ 90,  90, 255, ..., 255, 255,  90],\n",
      "       ...,\n",
      "       [ 90,  90, 255, ..., 232, 255,  90],\n",
      "       [ 90,  90, 252, ..., 255, 251,  90],\n",
      "       [ 90,  90,  90, ...,  90,  90,  90]], dtype=uint8)\n",
      "  ...\n",
      "  array([[ 90,  90,  90, ...,  90,  90,  90],\n",
      "       [ 90,  90,  90, ...,  90,  90,  90],\n",
      "       [ 90,  90, 255, ..., 255, 252,  90],\n",
      "       ...,\n",
      "       [ 90,  90, 229, ..., 247, 255,  90],\n",
      "       [ 90,  90, 255, ..., 255, 251,  90],\n",
      "       [ 90,  90,  90, ...,  90,  90,  90]], dtype=uint8)\n",
      "  array([[ 90,  90,  90, ...,  90,  90,  90],\n",
      "       [ 90,  90,  90, ...,  90,  90,  90],\n",
      "       [ 90,  90, 255, ..., 254, 253,  90],\n",
      "       ...,\n",
      "       [ 90,  90, 255, ..., 255, 255,  90],\n",
      "       [ 90,  90, 255, ..., 255, 255,  90],\n",
      "       [ 90,  90,  90, ...,  90,  90,  90]], dtype=uint8)\n",
      "  array([[ 90,  90,  90,  90,  90,  90,  90,  90,  90,  90,  90,  90,  90,\n",
      "         90,  90,  90,  90,  90],\n",
      "       [ 90,  90,  90,  90,  90,  90,  90,  90,  90,  90,  90,  90,  90,\n",
      "         90,  90,  90,  90,  90],\n",
      "       [ 90,  90, 204,  34,   0,   0,   0,   6,  10,  15,   6,   0,   2,\n",
      "          0,  23, 138, 252,  90],\n",
      "       [ 90,  90, 214,  33,   6,   3,   4,   3,   0,   2,   3,   5,  12,\n",
      "          5,  12, 133, 252,  90],\n",
      "       [ 90,  90, 210,  24,   5,   0,   3,   2,   0,   1,   1,   0,   2,\n",
      "          0,   7, 143, 255,  90],\n",
      "       [ 90,  90, 214,  18,   4,   3,   5,   0,   2,   3,   3,   0,   1,\n",
      "          6,   5, 142, 252,  90],\n",
      "       [ 90,  90, 215,  20,   9,   0,   3,   0,   1,   2,   1,   0,   0,\n",
      "          3,   2, 146, 253,  90],\n",
      "       [ 90,  90, 214,  20,   2,   0,   7,   1,   2,   0,   0,   1,   3,\n",
      "          3,   0, 146, 254,  90],\n",
      "       [ 90,  90, 213,  25,   0,   0,   1,   0,   0,   1,   2,   0,   1,\n",
      "          5,   2, 146, 254,  90],\n",
      "       [ 90,  90, 214,  23,   9,   1,   6,   1,   1,   0,   0,   1,   3,\n",
      "          2,   4, 142, 253,  90],\n",
      "       [ 90,  90, 212,  20,   1,   0,   2,   0,   2,   2,   3,   2,   0,\n",
      "          2,   6, 140, 254,  90],\n",
      "       [ 90,  90, 219,  19,   7,   5,   5,   6,   0,   0,   0,   1,   1,\n",
      "          0,   8, 142, 255,  90],\n",
      "       [ 90,  90, 184,  59,   6,   0,   0,  14,   0,   5,   2,   7,  13,\n",
      "          4,  12, 129, 246,  90],\n",
      "       [ 90,  90, 233, 167, 160, 163, 164, 179, 168, 171, 163, 163, 166,\n",
      "        158, 162, 209, 255,  90],\n",
      "       [ 90,  90,  90,  90,  90,  90,  90,  90,  90,  90,  90,  90,  90,\n",
      "         90,  90,  90,  90,  90]], dtype=uint8)]\n",
      " [array([[ 90,  90,  90, ...,  90,  90,  90],\n",
      "       [ 90,  90,  90, ...,  90,  90,  90],\n",
      "       [ 90,  90, 255, ..., 255, 255,  90],\n",
      "       ...,\n",
      "       [ 90,  90, 255, ..., 255, 255,  90],\n",
      "       [ 90,  90, 255, ..., 255, 255,  90],\n",
      "       [ 90,  90,  90, ...,  90,  90,  90]], dtype=uint8)\n",
      "  array([[ 90,  90,  90, ...,  90,  90,  90],\n",
      "       [ 90,  90,  90, ...,  90,  90,  90],\n",
      "       [ 90,  90, 255, ..., 255, 254,  90],\n",
      "       ...,\n",
      "       [ 90,  90, 255, ..., 255, 254,  90],\n",
      "       [ 90,  90, 255, ..., 251, 246,  90],\n",
      "       [ 90,  90,  90, ...,  90,  90,  90]], dtype=uint8)\n",
      "  array([[ 90,  90,  90, ...,  90,  90,  90],\n",
      "       [ 90,  90,  90, ...,  90,  90,  90],\n",
      "       [ 90,  90, 255, ..., 255, 255,  90],\n",
      "       ...,\n",
      "       [ 90,  90, 255, ..., 232, 255,  90],\n",
      "       [ 90,  90, 252, ..., 255, 251,  90],\n",
      "       [ 90,  90,  90, ...,  90,  90,  90]], dtype=uint8)\n",
      "  ...\n",
      "  array([[ 90,  90,  90, ...,  90,  90,  90],\n",
      "       [ 90,  90,  90, ...,  90,  90,  90],\n",
      "       [ 90,  90, 255, ..., 255, 252,  90],\n",
      "       ...,\n",
      "       [ 90,  90, 229, ..., 247, 255,  90],\n",
      "       [ 90,  90, 255, ..., 255, 251,  90],\n",
      "       [ 90,  90,  90, ...,  90,  90,  90]], dtype=uint8)\n",
      "  array([[ 90,  90,  90, ...,  90,  90,  90],\n",
      "       [ 90,  90,  90, ...,  90,  90,  90],\n",
      "       [ 90,  90, 255, ..., 254, 253,  90],\n",
      "       ...,\n",
      "       [ 90,  90, 255, ..., 255, 255,  90],\n",
      "       [ 90,  90, 255, ..., 255, 255,  90],\n",
      "       [ 90,  90,  90, ...,  90,  90,  90]], dtype=uint8)\n",
      "  array([[ 90,  90,  90,  90,  90,  90,  90,  90,  90,  90,  90,  90,  90,\n",
      "         90,  90,  90,  90,  90],\n",
      "       [ 90,  90,  90,  90,  90,  90,  90,  90,  90,  90,  90,  90,  90,\n",
      "         90,  90,  90,  90,  90],\n",
      "       [ 90,  90, 204,  34,   0,   0,   0,   6,  10,  15,   6,   0,   2,\n",
      "          0,  23, 138, 252,  90],\n",
      "       [ 90,  90, 214,  33,   6,   3,   4,   3,   0,   2,   3,   5,  12,\n",
      "          5,  12, 133, 252,  90],\n",
      "       [ 90,  90, 210,  24,   5,   0,   3,   2,   0,   1,   1,   0,   2,\n",
      "          0,   7, 143, 255,  90],\n",
      "       [ 90,  90, 214,  18,   4,   3,   5,   0,   2,   3,   3,   0,   1,\n",
      "          6,   5, 142, 252,  90],\n",
      "       [ 90,  90, 215,  20,   9,   0,   3,   0,   1,   2,   1,   0,   0,\n",
      "          3,   2, 146, 253,  90],\n",
      "       [ 90,  90, 214,  20,   2,   0,   7,   1,   2,   0,   0,   1,   3,\n",
      "          3,   0, 146, 254,  90],\n",
      "       [ 90,  90, 213,  25,   0,   0,   1,   0,   0,   1,   2,   0,   1,\n",
      "          5,   2, 146, 254,  90],\n",
      "       [ 90,  90, 214,  23,   9,   1,   6,   1,   1,   0,   0,   1,   3,\n",
      "          2,   4, 142, 253,  90],\n",
      "       [ 90,  90, 212,  20,   1,   0,   2,   0,   2,   2,   3,   2,   0,\n",
      "          2,   6, 140, 254,  90],\n",
      "       [ 90,  90, 219,  19,   7,   5,   5,   6,   0,   0,   0,   1,   1,\n",
      "          0,   8, 142, 255,  90],\n",
      "       [ 90,  90, 184,  59,   6,   0,   0,  14,   0,   5,   2,   7,  13,\n",
      "          4,  12, 129, 246,  90],\n",
      "       [ 90,  90, 233, 167, 160, 163, 164, 179, 168, 171, 163, 163, 166,\n",
      "        158, 162, 209, 255,  90],\n",
      "       [ 90,  90,  90,  90,  90,  90,  90,  90,  90,  90,  90,  90,  90,\n",
      "         90,  90,  90,  90,  90]], dtype=uint8)]\n",
      " [array([[ 90,  90,  90, ...,  90,  90,  90],\n",
      "       [ 90,  90,  90, ...,  90,  90,  90],\n",
      "       [ 90,  90, 255, ..., 255, 255,  90],\n",
      "       ...,\n",
      "       [ 90,  90, 255, ..., 255, 255,  90],\n",
      "       [ 90,  90, 255, ..., 255, 255,  90],\n",
      "       [ 90,  90,  90, ...,  90,  90,  90]], dtype=uint8)\n",
      "  array([[ 90,  90,  90, ...,  90,  90,  90],\n",
      "       [ 90,  90,  90, ...,  90,  90,  90],\n",
      "       [ 90,  90, 255, ..., 255, 254,  90],\n",
      "       ...,\n",
      "       [ 90,  90, 255, ..., 255, 254,  90],\n",
      "       [ 90,  90, 255, ..., 251, 246,  90],\n",
      "       [ 90,  90,  90, ...,  90,  90,  90]], dtype=uint8)\n",
      "  array([[ 90,  90,  90, ...,  90,  90,  90],\n",
      "       [ 90,  90,  90, ...,  90,  90,  90],\n",
      "       [ 90,  90, 255, ..., 255, 255,  90],\n",
      "       ...,\n",
      "       [ 90,  90, 255, ..., 232, 255,  90],\n",
      "       [ 90,  90, 252, ..., 255, 251,  90],\n",
      "       [ 90,  90,  90, ...,  90,  90,  90]], dtype=uint8)\n",
      "  ...\n",
      "  array([[ 90,  90,  90, ...,  90,  90,  90],\n",
      "       [ 90,  90,  90, ...,  90,  90,  90],\n",
      "       [ 90,  90, 255, ..., 255, 252,  90],\n",
      "       ...,\n",
      "       [ 90,  90, 229, ..., 247, 255,  90],\n",
      "       [ 90,  90, 255, ..., 255, 251,  90],\n",
      "       [ 90,  90,  90, ...,  90,  90,  90]], dtype=uint8)\n",
      "  array([[ 90,  90,  90, ...,  90,  90,  90],\n",
      "       [ 90,  90,  90, ...,  90,  90,  90],\n",
      "       [ 90,  90, 255, ..., 254, 253,  90],\n",
      "       ...,\n",
      "       [ 90,  90, 255, ..., 255, 255,  90],\n",
      "       [ 90,  90, 255, ..., 255, 255,  90],\n",
      "       [ 90,  90,  90, ...,  90,  90,  90]], dtype=uint8)\n",
      "  array([[ 90,  90,  90,  90,  90,  90,  90,  90,  90,  90,  90,  90,  90,\n",
      "         90,  90,  90,  90,  90],\n",
      "       [ 90,  90,  90,  90,  90,  90,  90,  90,  90,  90,  90,  90,  90,\n",
      "         90,  90,  90,  90,  90],\n",
      "       [ 90,  90, 204,  34,   0,   0,   0,   6,  10,  15,   6,   0,   2,\n",
      "          0,  23, 138, 252,  90],\n",
      "       [ 90,  90, 214,  33,   6,   3,   4,   3,   0,   2,   3,   5,  12,\n",
      "          5,  12, 133, 252,  90],\n",
      "       [ 90,  90, 210,  24,   5,   0,   3,   2,   0,   1,   1,   0,   2,\n",
      "          0,   7, 143, 255,  90],\n",
      "       [ 90,  90, 214,  18,   4,   3,   5,   0,   2,   3,   3,   0,   1,\n",
      "          6,   5, 142, 252,  90],\n",
      "       [ 90,  90, 215,  20,   9,   0,   3,   0,   1,   2,   1,   0,   0,\n",
      "          3,   2, 146, 253,  90],\n",
      "       [ 90,  90, 214,  20,   2,   0,   7,   1,   2,   0,   0,   1,   3,\n",
      "          3,   0, 146, 254,  90],\n",
      "       [ 90,  90, 213,  25,   0,   0,   1,   0,   0,   1,   2,   0,   1,\n",
      "          5,   2, 146, 254,  90],\n",
      "       [ 90,  90, 214,  23,   9,   1,   6,   1,   1,   0,   0,   1,   3,\n",
      "          2,   4, 142, 253,  90],\n",
      "       [ 90,  90, 212,  20,   1,   0,   2,   0,   2,   2,   3,   2,   0,\n",
      "          2,   6, 140, 254,  90],\n",
      "       [ 90,  90, 219,  19,   7,   5,   5,   6,   0,   0,   0,   1,   1,\n",
      "          0,   8, 142, 255,  90],\n",
      "       [ 90,  90, 184,  59,   6,   0,   0,  14,   0,   5,   2,   7,  13,\n",
      "          4,  12, 129, 246,  90],\n",
      "       [ 90,  90, 233, 167, 160, 163, 164, 179, 168, 171, 163, 163, 166,\n",
      "        158, 162, 209, 255,  90],\n",
      "       [ 90,  90,  90,  90,  90,  90,  90,  90,  90,  90,  90,  90,  90,\n",
      "         90,  90,  90,  90,  90]], dtype=uint8)]\n",
      " ...\n",
      " [array([[ 90,  90,  90, ...,  90,  90,  90],\n",
      "       [ 90,  90,  90, ...,  90,  90,  90],\n",
      "       [ 90,  90, 255, ..., 255, 255,  90],\n",
      "       ...,\n",
      "       [ 90,  90, 255, ..., 255, 255,  90],\n",
      "       [ 90,  90, 255, ..., 255, 255,  90],\n",
      "       [ 90,  90,  90, ...,  90,  90,  90]], dtype=uint8)\n",
      "  array([[ 90,  90,  90, ...,  90,  90,  90],\n",
      "       [ 90,  90,  90, ...,  90,  90,  90],\n",
      "       [ 90,  90, 255, ..., 255, 254,  90],\n",
      "       ...,\n",
      "       [ 90,  90, 255, ..., 255, 254,  90],\n",
      "       [ 90,  90, 255, ..., 251, 246,  90],\n",
      "       [ 90,  90,  90, ...,  90,  90,  90]], dtype=uint8)\n",
      "  array([[ 90,  90,  90, ...,  90,  90,  90],\n",
      "       [ 90,  90,  90, ...,  90,  90,  90],\n",
      "       [ 90,  90, 255, ..., 255, 255,  90],\n",
      "       ...,\n",
      "       [ 90,  90, 255, ..., 232, 255,  90],\n",
      "       [ 90,  90, 252, ..., 255, 251,  90],\n",
      "       [ 90,  90,  90, ...,  90,  90,  90]], dtype=uint8)\n",
      "  ...\n",
      "  array([[ 90,  90,  90, ...,  90,  90,  90],\n",
      "       [ 90,  90,  90, ...,  90,  90,  90],\n",
      "       [ 90,  90, 255, ..., 255, 252,  90],\n",
      "       ...,\n",
      "       [ 90,  90, 229, ..., 247, 255,  90],\n",
      "       [ 90,  90, 255, ..., 255, 251,  90],\n",
      "       [ 90,  90,  90, ...,  90,  90,  90]], dtype=uint8)\n",
      "  array([[ 90,  90,  90, ...,  90,  90,  90],\n",
      "       [ 90,  90,  90, ...,  90,  90,  90],\n",
      "       [ 90,  90, 255, ..., 254, 253,  90],\n",
      "       ...,\n",
      "       [ 90,  90, 255, ..., 255, 255,  90],\n",
      "       [ 90,  90, 255, ..., 255, 255,  90],\n",
      "       [ 90,  90,  90, ...,  90,  90,  90]], dtype=uint8)\n",
      "  array([[ 90,  90,  90,  90,  90,  90,  90,  90,  90,  90,  90,  90,  90,\n",
      "         90,  90,  90,  90,  90],\n",
      "       [ 90,  90,  90,  90,  90,  90,  90,  90,  90,  90,  90,  90,  90,\n",
      "         90,  90,  90,  90,  90],\n",
      "       [ 90,  90, 204,  34,   0,   0,   0,   6,  10,  15,   6,   0,   2,\n",
      "          0,  23, 138, 252,  90],\n",
      "       [ 90,  90, 214,  33,   6,   3,   4,   3,   0,   2,   3,   5,  12,\n",
      "          5,  12, 133, 252,  90],\n",
      "       [ 90,  90, 210,  24,   5,   0,   3,   2,   0,   1,   1,   0,   2,\n",
      "          0,   7, 143, 255,  90],\n",
      "       [ 90,  90, 214,  18,   4,   3,   5,   0,   2,   3,   3,   0,   1,\n",
      "          6,   5, 142, 252,  90],\n",
      "       [ 90,  90, 215,  20,   9,   0,   3,   0,   1,   2,   1,   0,   0,\n",
      "          3,   2, 146, 253,  90],\n",
      "       [ 90,  90, 214,  20,   2,   0,   7,   1,   2,   0,   0,   1,   3,\n",
      "          3,   0, 146, 254,  90],\n",
      "       [ 90,  90, 213,  25,   0,   0,   1,   0,   0,   1,   2,   0,   1,\n",
      "          5,   2, 146, 254,  90],\n",
      "       [ 90,  90, 214,  23,   9,   1,   6,   1,   1,   0,   0,   1,   3,\n",
      "          2,   4, 142, 253,  90],\n",
      "       [ 90,  90, 212,  20,   1,   0,   2,   0,   2,   2,   3,   2,   0,\n",
      "          2,   6, 140, 254,  90],\n",
      "       [ 90,  90, 219,  19,   7,   5,   5,   6,   0,   0,   0,   1,   1,\n",
      "          0,   8, 142, 255,  90],\n",
      "       [ 90,  90, 184,  59,   6,   0,   0,  14,   0,   5,   2,   7,  13,\n",
      "          4,  12, 129, 246,  90],\n",
      "       [ 90,  90, 233, 167, 160, 163, 164, 179, 168, 171, 163, 163, 166,\n",
      "        158, 162, 209, 255,  90],\n",
      "       [ 90,  90,  90,  90,  90,  90,  90,  90,  90,  90,  90,  90,  90,\n",
      "         90,  90,  90,  90,  90]], dtype=uint8)]\n",
      " [array([[ 90,  90,  90, ...,  90,  90,  90],\n",
      "       [ 90,  90,  90, ...,  90,  90,  90],\n",
      "       [ 90,  90, 255, ..., 255, 255,  90],\n",
      "       ...,\n",
      "       [ 90,  90, 255, ..., 255, 255,  90],\n",
      "       [ 90,  90, 255, ..., 255, 255,  90],\n",
      "       [ 90,  90,  90, ...,  90,  90,  90]], dtype=uint8)\n",
      "  array([[ 90,  90,  90, ...,  90,  90,  90],\n",
      "       [ 90,  90,  90, ...,  90,  90,  90],\n",
      "       [ 90,  90, 255, ..., 255, 254,  90],\n",
      "       ...,\n",
      "       [ 90,  90, 255, ..., 255, 254,  90],\n",
      "       [ 90,  90, 255, ..., 251, 246,  90],\n",
      "       [ 90,  90,  90, ...,  90,  90,  90]], dtype=uint8)\n",
      "  array([[ 90,  90,  90, ...,  90,  90,  90],\n",
      "       [ 90,  90,  90, ...,  90,  90,  90],\n",
      "       [ 90,  90, 255, ..., 255, 255,  90],\n",
      "       ...,\n",
      "       [ 90,  90, 255, ..., 232, 255,  90],\n",
      "       [ 90,  90, 252, ..., 255, 251,  90],\n",
      "       [ 90,  90,  90, ...,  90,  90,  90]], dtype=uint8)\n",
      "  ...\n",
      "  array([[ 90,  90,  90, ...,  90,  90,  90],\n",
      "       [ 90,  90,  90, ...,  90,  90,  90],\n",
      "       [ 90,  90, 255, ..., 255, 252,  90],\n",
      "       ...,\n",
      "       [ 90,  90, 229, ..., 247, 255,  90],\n",
      "       [ 90,  90, 255, ..., 255, 251,  90],\n",
      "       [ 90,  90,  90, ...,  90,  90,  90]], dtype=uint8)\n",
      "  array([[ 90,  90,  90, ...,  90,  90,  90],\n",
      "       [ 90,  90,  90, ...,  90,  90,  90],\n",
      "       [ 90,  90, 255, ..., 254, 253,  90],\n",
      "       ...,\n",
      "       [ 90,  90, 255, ..., 255, 255,  90],\n",
      "       [ 90,  90, 255, ..., 255, 255,  90],\n",
      "       [ 90,  90,  90, ...,  90,  90,  90]], dtype=uint8)\n",
      "  array([[ 90,  90,  90,  90,  90,  90,  90,  90,  90,  90,  90,  90,  90,\n",
      "         90,  90,  90,  90,  90],\n",
      "       [ 90,  90,  90,  90,  90,  90,  90,  90,  90,  90,  90,  90,  90,\n",
      "         90,  90,  90,  90,  90],\n",
      "       [ 90,  90, 204,  34,   0,   0,   0,   6,  10,  15,   6,   0,   2,\n",
      "          0,  23, 138, 252,  90],\n",
      "       [ 90,  90, 214,  33,   6,   3,   4,   3,   0,   2,   3,   5,  12,\n",
      "          5,  12, 133, 252,  90],\n",
      "       [ 90,  90, 210,  24,   5,   0,   3,   2,   0,   1,   1,   0,   2,\n",
      "          0,   7, 143, 255,  90],\n",
      "       [ 90,  90, 214,  18,   4,   3,   5,   0,   2,   3,   3,   0,   1,\n",
      "          6,   5, 142, 252,  90],\n",
      "       [ 90,  90, 215,  20,   9,   0,   3,   0,   1,   2,   1,   0,   0,\n",
      "          3,   2, 146, 253,  90],\n",
      "       [ 90,  90, 214,  20,   2,   0,   7,   1,   2,   0,   0,   1,   3,\n",
      "          3,   0, 146, 254,  90],\n",
      "       [ 90,  90, 213,  25,   0,   0,   1,   0,   0,   1,   2,   0,   1,\n",
      "          5,   2, 146, 254,  90],\n",
      "       [ 90,  90, 214,  23,   9,   1,   6,   1,   1,   0,   0,   1,   3,\n",
      "          2,   4, 142, 253,  90],\n",
      "       [ 90,  90, 212,  20,   1,   0,   2,   0,   2,   2,   3,   2,   0,\n",
      "          2,   6, 140, 254,  90],\n",
      "       [ 90,  90, 219,  19,   7,   5,   5,   6,   0,   0,   0,   1,   1,\n",
      "          0,   8, 142, 255,  90],\n",
      "       [ 90,  90, 184,  59,   6,   0,   0,  14,   0,   5,   2,   7,  13,\n",
      "          4,  12, 129, 246,  90],\n",
      "       [ 90,  90, 233, 167, 160, 163, 164, 179, 168, 171, 163, 163, 166,\n",
      "        158, 162, 209, 255,  90],\n",
      "       [ 90,  90,  90,  90,  90,  90,  90,  90,  90,  90,  90,  90,  90,\n",
      "         90,  90,  90,  90,  90]], dtype=uint8)]\n",
      " [array([[ 90,  90,  90, ...,  90,  90,  90],\n",
      "       [ 90,  90,  90, ...,  90,  90,  90],\n",
      "       [ 90,  90, 255, ..., 255, 255,  90],\n",
      "       ...,\n",
      "       [ 90,  90, 255, ..., 255, 255,  90],\n",
      "       [ 90,  90, 255, ..., 255, 255,  90],\n",
      "       [ 90,  90,  90, ...,  90,  90,  90]], dtype=uint8)\n",
      "  array([[ 90,  90,  90, ...,  90,  90,  90],\n",
      "       [ 90,  90,  90, ...,  90,  90,  90],\n",
      "       [ 90,  90, 255, ..., 255, 254,  90],\n",
      "       ...,\n",
      "       [ 90,  90, 255, ..., 255, 254,  90],\n",
      "       [ 90,  90, 255, ..., 251, 246,  90],\n",
      "       [ 90,  90,  90, ...,  90,  90,  90]], dtype=uint8)\n",
      "  array([[ 90,  90,  90, ...,  90,  90,  90],\n",
      "       [ 90,  90,  90, ...,  90,  90,  90],\n",
      "       [ 90,  90, 255, ..., 255, 255,  90],\n",
      "       ...,\n",
      "       [ 90,  90, 255, ..., 232, 255,  90],\n",
      "       [ 90,  90, 252, ..., 255, 251,  90],\n",
      "       [ 90,  90,  90, ...,  90,  90,  90]], dtype=uint8)\n",
      "  ...\n",
      "  array([[ 90,  90,  90, ...,  90,  90,  90],\n",
      "       [ 90,  90,  90, ...,  90,  90,  90],\n",
      "       [ 90,  90, 255, ..., 255, 252,  90],\n",
      "       ...,\n",
      "       [ 90,  90, 229, ..., 247, 255,  90],\n",
      "       [ 90,  90, 255, ..., 255, 251,  90],\n",
      "       [ 90,  90,  90, ...,  90,  90,  90]], dtype=uint8)\n",
      "  array([[ 90,  90,  90, ...,  90,  90,  90],\n",
      "       [ 90,  90,  90, ...,  90,  90,  90],\n",
      "       [ 90,  90, 255, ..., 254, 253,  90],\n",
      "       ...,\n",
      "       [ 90,  90, 255, ..., 255, 255,  90],\n",
      "       [ 90,  90, 255, ..., 255, 255,  90],\n",
      "       [ 90,  90,  90, ...,  90,  90,  90]], dtype=uint8)\n",
      "  array([[ 90,  90,  90,  90,  90,  90,  90,  90,  90,  90,  90,  90,  90,\n",
      "         90,  90,  90,  90,  90],\n",
      "       [ 90,  90,  90,  90,  90,  90,  90,  90,  90,  90,  90,  90,  90,\n",
      "         90,  90,  90,  90,  90],\n",
      "       [ 90,  90, 204,  34,   0,   0,   0,   6,  10,  15,   6,   0,   2,\n",
      "          0,  23, 138, 252,  90],\n",
      "       [ 90,  90, 214,  33,   6,   3,   4,   3,   0,   2,   3,   5,  12,\n",
      "          5,  12, 133, 252,  90],\n",
      "       [ 90,  90, 210,  24,   5,   0,   3,   2,   0,   1,   1,   0,   2,\n",
      "          0,   7, 143, 255,  90],\n",
      "       [ 90,  90, 214,  18,   4,   3,   5,   0,   2,   3,   3,   0,   1,\n",
      "          6,   5, 142, 252,  90],\n",
      "       [ 90,  90, 215,  20,   9,   0,   3,   0,   1,   2,   1,   0,   0,\n",
      "          3,   2, 146, 253,  90],\n",
      "       [ 90,  90, 214,  20,   2,   0,   7,   1,   2,   0,   0,   1,   3,\n",
      "          3,   0, 146, 254,  90],\n",
      "       [ 90,  90, 213,  25,   0,   0,   1,   0,   0,   1,   2,   0,   1,\n",
      "          5,   2, 146, 254,  90],\n",
      "       [ 90,  90, 214,  23,   9,   1,   6,   1,   1,   0,   0,   1,   3,\n",
      "          2,   4, 142, 253,  90],\n",
      "       [ 90,  90, 212,  20,   1,   0,   2,   0,   2,   2,   3,   2,   0,\n",
      "          2,   6, 140, 254,  90],\n",
      "       [ 90,  90, 219,  19,   7,   5,   5,   6,   0,   0,   0,   1,   1,\n",
      "          0,   8, 142, 255,  90],\n",
      "       [ 90,  90, 184,  59,   6,   0,   0,  14,   0,   5,   2,   7,  13,\n",
      "          4,  12, 129, 246,  90],\n",
      "       [ 90,  90, 233, 167, 160, 163, 164, 179, 168, 171, 163, 163, 166,\n",
      "        158, 162, 209, 255,  90],\n",
      "       [ 90,  90,  90,  90,  90,  90,  90,  90,  90,  90,  90,  90,  90,\n",
      "         90,  90,  90,  90,  90]], dtype=uint8)]]\n"
     ]
    }
   ],
   "source": [
    "print(list_images)\n",
    "list_images = np.array(list_images)"
   ]
  },
  {
   "cell_type": "code",
   "execution_count": 10,
   "metadata": {},
   "outputs": [
    {
     "ename": "AttributeError",
     "evalue": "'list' object has no attribute 'shape'",
     "output_type": "error",
     "traceback": [
      "\u001b[0;31m---------------------------------------------------------------------------\u001b[0m",
      "\u001b[0;31mAttributeError\u001b[0m                            Traceback (most recent call last)",
      "\u001b[0;32m<ipython-input-10-32a7cd99e4ab>\u001b[0m in \u001b[0;36m<module>\u001b[0;34m()\u001b[0m\n\u001b[0;32m----> 1\u001b[0;31m \u001b[0mlist_images\u001b[0m\u001b[0;34m.\u001b[0m\u001b[0mshape\u001b[0m\u001b[0;34m\u001b[0m\u001b[0m\n\u001b[0m",
      "\u001b[0;31mAttributeError\u001b[0m: 'list' object has no attribute 'shape'"
     ]
    }
   ],
   "source": [
    "list_images.shape"
   ]
  },
  {
   "cell_type": "code",
   "execution_count": null,
   "metadata": {},
   "outputs": [],
   "source": [
    "for row in list_images:\n",
    "    for list_in in row:\n",
    "        model.predict([list_in])\n"
   ]
  },
  {
   "cell_type": "code",
   "execution_count": 19,
   "metadata": {},
   "outputs": [],
   "source": [
    "test_data = np.array(test_data).reshape(-1,28,28,1)"
   ]
  },
  {
   "cell_type": "code",
   "execution_count": 20,
   "metadata": {},
   "outputs": [],
   "source": [
    "predicitions = model.predict([test_data])"
   ]
  },
  {
   "cell_type": "code",
   "execution_count": 34,
   "metadata": {},
   "outputs": [
    {
     "name": "stdout",
     "output_type": "stream",
     "text": [
      "33\n"
     ]
    }
   ],
   "source": [
    "print(np.argmax(predicitions[5]))"
   ]
  },
  {
   "cell_type": "code",
   "execution_count": 35,
   "metadata": {},
   "outputs": [
    {
     "data": {
      "image/png": "[encoded data removed]",
      "text/plain": [
       "<Figure size 432x288 with 1 Axes>"
      ]
     },
     "metadata": {},
     "output_type": "display_data"
    }
   ],
   "source": [
    "plt.imshow(test_data[5].reshape([28,28]),cmap=\"gray\")\n",
    "plt.show()"
   ]
  },
  {
   "cell_type": "code",
   "execution_count": null,
   "metadata": {},
   "outputs": [],
   "source": []
  },
  {
   "cell_type": "code",
   "execution_count": 40,
   "metadata": {},
   "outputs": [],
   "source": []
  },
  {
   "cell_type": "code",
   "execution_count": null,
   "metadata": {},
   "outputs": [],
   "source": []
  },
  {
   "cell_type": "code",
   "execution_count": null,
   "metadata": {},
   "outputs": [],
   "source": []
  },
  {
   "cell_type": "code",
   "execution_count": null,
   "metadata": {},
   "outputs": [],
   "source": []
  },
  {
   "cell_type": "code",
   "execution_count": null,
   "metadata": {},
   "outputs": [],
   "source": []
  },
  {
   "cell_type": "code",
   "execution_count": null,
   "metadata": {},
   "outputs": [],
   "source": []
  },
  {
   "cell_type": "code",
   "execution_count": null,
   "metadata": {},
   "outputs": [],
   "source": []
  },
  {
   "cell_type": "code",
   "execution_count": null,
   "metadata": {},
   "outputs": [],
   "source": []
  },
  {
   "cell_type": "code",
   "execution_count": null,
   "metadata": {},
   "outputs": [],
   "source": []
  }
 ],
 "metadata": {
  "kernelspec": {
   "display_name": "Python 3",
   "language": "python",
   "name": "python3"
  },
  "language_info": {
   "codemirror_mode": {
    "name": "ipython",
    "version": 3
   },
   "file_extension": ".py",
   "mimetype": "text/x-python",
   "name": "python",
   "nbconvert_exporter": "python",
   "pygments_lexer": "ipython3",
   "version": "3.6.5"
  }
 },
 "nbformat": 4,
 "nbformat_minor": 2
}
